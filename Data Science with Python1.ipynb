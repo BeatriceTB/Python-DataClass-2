{
 "cells": [
  {
   "cell_type": "markdown",
   "id": "03b4a674",
   "metadata": {},
   "source": [
    "# Session 1\n",
    "- Data Science and Machine Learning"
   ]
  },
  {
   "cell_type": "markdown",
   "id": "b1de4875",
   "metadata": {},
   "source": [
    "### Introduction to Python\n",
    "\n",
    "Python is a computer programming language often used to build  **websites and software, automate tasks, and conduct data analysis.**"
   ]
  },
  {
   "cell_type": "code",
   "execution_count": null,
   "id": "c0438bb8",
   "metadata": {},
   "outputs": [],
   "source": [
    "# printing\n",
    "print(\"Hello, world!\")\n",
    "\n",
    "# commenting\n",
    "#\n",
    "\"\"\"\"\"\"\n",
    "\n",
    "# inbuilt fuctions like print, help, dir, len, sum"
   ]
  },
  {
   "cell_type": "markdown",
   "id": "2bd41bdf",
   "metadata": {},
   "source": [
    "## Basic Arithmetic\n",
    "The basic arithmetic operations for real numbers are addition, subtraction, multiplication, and division\n",
    "\n",
    "|Operation                |Symbol                          |Example                         |\n",
    "|----------------|-------------------------------|-----------------------------|\n",
    "|Addition\t|+\t|1 + 2 = 3            \n",
    "|Subtraction\t|-|\t5 - 4 = 1\n",
    "|Multiplication\t|*|\t2 * 4 = 8\n",
    "|Division\t|/|\t6 / 3 = 2\n",
    "Exponent|\t**\t|3 ** 2 = 9"
   ]
  },
  {
   "cell_type": "code",
   "execution_count": 1,
   "id": "8d86a076",
   "metadata": {},
   "outputs": [],
   "source": [
    "# Addition\n"
   ]
  },
  {
   "cell_type": "code",
   "execution_count": 2,
   "id": "889d5f43",
   "metadata": {},
   "outputs": [],
   "source": [
    "# Subtraction\n"
   ]
  },
  {
   "cell_type": "code",
   "execution_count": 4,
   "id": "8bddc535",
   "metadata": {},
   "outputs": [],
   "source": [
    "# Multiplication\n"
   ]
  },
  {
   "cell_type": "code",
   "execution_count": 5,
   "id": "dc8e19d5",
   "metadata": {},
   "outputs": [],
   "source": [
    "# Division\n"
   ]
  },
  {
   "cell_type": "code",
   "execution_count": 6,
   "id": "1fe40827",
   "metadata": {},
   "outputs": [],
   "source": [
    "# Floor Division\n"
   ]
  },
  {
   "cell_type": "code",
   "execution_count": 7,
   "id": "1363c1cc",
   "metadata": {},
   "outputs": [],
   "source": [
    "# Modulo - To get the reminder\n"
   ]
  },
  {
   "cell_type": "code",
   "execution_count": null,
   "id": "0664fb37",
   "metadata": {},
   "outputs": [],
   "source": [
    "# Raised to Power\n"
   ]
  },
  {
   "cell_type": "code",
   "execution_count": 3,
   "id": "ec10574b",
   "metadata": {},
   "outputs": [],
   "source": [
    "# Square-root\n"
   ]
  },
  {
   "cell_type": "code",
   "execution_count": null,
   "id": "82fcb196",
   "metadata": {},
   "outputs": [],
   "source": [
    "# Order of Operation - BODMAS\n",
    "(10 + 25 - 6) / (0.5*5)"
   ]
  },
  {
   "cell_type": "markdown",
   "id": "4af8487a",
   "metadata": {},
   "source": [
    "## Variable Assignment\n",
    "\n",
    "Variables can store **data of different types** \n",
    "\n",
    "- Integer - 1,2,3,4\n",
    "- float \t- 4.5\n",
    "- String - 'alphabet' & 'text'\n",
    "- bool - True or False\n",
    "- list - [Mango, Orange, Banana, Pineapple, Mango]\n",
    "- dict - { Key: Value, Name: Damilola}\n",
    "- set - (Orange, Banana, Pineapple, Mango)\n",
    "- tuple "
   ]
  },
  {
   "cell_type": "code",
   "execution_count": null,
   "id": "03980e94",
   "metadata": {},
   "outputs": [],
   "source": [
    "#Dont start with a number\n",
    "#Dont start with special characters\n",
    "#NO SPACE\n",
    "\n",
    "# Creating variables\n",
    "# Manipulating variables\n",
    "\n"
   ]
  },
  {
   "cell_type": "markdown",
   "id": "7f46892b",
   "metadata": {},
   "source": [
    "## Debugging - reading errors"
   ]
  },
  {
   "cell_type": "code",
   "execution_count": null,
   "id": "39e47463",
   "metadata": {},
   "outputs": [],
   "source": []
  },
  {
   "cell_type": "markdown",
   "id": "f3fbbf59",
   "metadata": {},
   "source": [
    "## Function\n",
    "A function is a **block of code designed to perform a specific task**. \n",
    "\n",
    "As you'll see, functions will let you do roughly the same calculation multiple times without duplicating any code.\n",
    "\n",
    "It contains **Head** and **Body**.\n",
    "\n"
   ]
  },
  {
   "cell_type": "code",
   "execution_count": null,
   "id": "c82c7b7c",
   "metadata": {},
   "outputs": [],
   "source": [
    "def add_three(input_var):       # HEAD\n",
    "    output_var = input_var + 3      # BODY\n",
    "    return output_var            # OUTPUT which is optional\n",
    "    \n",
    "    \n",
    "    \n",
    "\n",
    "# Functions with multiple arguments\n",
    "\n",
    "# Functions with no arguments"
   ]
  },
  {
   "cell_type": "code",
   "execution_count": null,
   "id": "e9622c57",
   "metadata": {},
   "outputs": [],
   "source": []
  },
  {
   "cell_type": "markdown",
   "id": "e2cd75a1",
   "metadata": {},
   "source": [
    "Say you are helping a friend to calculate their weekly paycheck after taxes.\n",
    "\n",
    "- They're in a 12% tax bracket (in other words, 12% of their salary is taken for taxes, and they only take home 88%), and\n",
    "\n",
    "- They're paid monthly, at a rate of $7,500/month.\n",
    "\n",
    "- Create a calculator to be used for 2 - 6 months period"
   ]
  },
  {
   "cell_type": "code",
   "execution_count": null,
   "id": "ba17c004",
   "metadata": {},
   "outputs": [],
   "source": [
    "\n",
    "def get_pay(num_hours):\n",
    "    # Pre-tax pay, based on receiving $15/hour\n",
    "    pay_pretax = num_hours * 15\n",
    "    # After-tax pay, based on being in 12% tax bracket\n",
    "    pay_aftertax = pay_pretax * (1 - .12)\n",
    "    return pay_aftertax\n",
    "\n"
   ]
  },
  {
   "cell_type": "markdown",
   "id": "f168a0ed",
   "metadata": {},
   "source": [
    "## Data Types\n"
   ]
  },
  {
   "cell_type": "markdown",
   "id": "37f2607f",
   "metadata": {},
   "source": [
    "## Integers\n",
    "Int, or integer, is a whole number, positive or negative, without decimals, of unlimited length."
   ]
  },
  {
   "cell_type": "code",
   "execution_count": null,
   "id": "d311785b",
   "metadata": {},
   "outputs": [],
   "source": []
  },
  {
   "cell_type": "code",
   "execution_count": null,
   "id": "312c7f9a",
   "metadata": {},
   "outputs": [],
   "source": []
  },
  {
   "cell_type": "markdown",
   "id": "318b6d78",
   "metadata": {},
   "source": [
    "## Float\n",
    "The difference between floating points and integers is decimal points. Floating point number can be represented as “1.0”, and integer can be represented as “1”. It is accurate up to 15 decimal places."
   ]
  },
  {
   "cell_type": "code",
   "execution_count": null,
   "id": "8c8b1911",
   "metadata": {},
   "outputs": [],
   "source": []
  },
  {
   "cell_type": "code",
   "execution_count": null,
   "id": "de309e25",
   "metadata": {},
   "outputs": [],
   "source": []
  },
  {
   "cell_type": "markdown",
   "id": "65563437",
   "metadata": {},
   "source": [
    "## List\n",
    "A List is an **ordered sequence of items**.\n",
    "\n",
    "It is a very flexible data type in Python. There is no need for the value in the list to be of the same data type. \n",
    "\n",
    "The List is the data type that is highly used data type in Python. List datatype is the most exclusive datatype in Python for containing versatile data. It can easily hold different types of data in Python.\n",
    "\n"
   ]
  },
  {
   "cell_type": "code",
   "execution_count": null,
   "id": "896705f6",
   "metadata": {},
   "outputs": [],
   "source": []
  },
  {
   "cell_type": "code",
   "execution_count": null,
   "id": "348da285",
   "metadata": {},
   "outputs": [],
   "source": []
  },
  {
   "cell_type": "code",
   "execution_count": null,
   "id": "ec7d29d6",
   "metadata": {},
   "outputs": [],
   "source": []
  },
  {
   "cell_type": "markdown",
   "id": "f7c2b53f",
   "metadata": {},
   "source": [
    "**list methods**\n",
    "\n",
    "dir(list)\n",
    "\n",
    "**Removing items**\n",
    "\n",
    "Remove an item from a list with .remove(), and put the item you would like to remove in parentheses.\n",
    "\n",
    "**Adding items**\n",
    "\n",
    "Add an item to a list with .append(), and put the item you would like to add in parentheses."
   ]
  },
  {
   "cell_type": "code",
   "execution_count": null,
   "id": "a9be3807",
   "metadata": {},
   "outputs": [],
   "source": []
  },
  {
   "cell_type": "markdown",
   "id": "66aa907c",
   "metadata": {},
   "source": [
    "## Strings\n",
    "\n",
    "A String is a **sequence of Unicode characters.**\n",
    " In Python, \n",
    " - String is called str. \n",
    " - Strings are represented by using Double quotes or single quotes. \n",
    " - If the strings are multiple, then it can be denoted by the use of triple quotes **“””** or **”’**. \n",
    "\n",
    "All the characters between the quotes are items of the string.\n",
    "\n",
    "**String methods**\n",
    "\n",
    "dir(str)\n",
    "\n",
    "Like **list**, the type **str** has lots of very useful methods."
   ]
  },
  {
   "cell_type": "code",
   "execution_count": null,
   "id": "759af89c",
   "metadata": {},
   "outputs": [],
   "source": []
  },
  {
   "cell_type": "code",
   "execution_count": null,
   "id": "cf3499e1",
   "metadata": {},
   "outputs": [],
   "source": []
  },
  {
   "cell_type": "code",
   "execution_count": null,
   "id": "5f55ba01",
   "metadata": {},
   "outputs": [],
   "source": []
  },
  {
   "cell_type": "markdown",
   "id": "22e721da",
   "metadata": {},
   "source": [
    "#### Print Format"
   ]
  },
  {
   "cell_type": "code",
   "execution_count": null,
   "id": "d306f1bb",
   "metadata": {},
   "outputs": [],
   "source": [
    "# .format\n",
    "# f''"
   ]
  },
  {
   "cell_type": "code",
   "execution_count": null,
   "id": "1d05c65c",
   "metadata": {},
   "outputs": [],
   "source": [
    "#Placeholder\n",
    "\n",
    "name = \"Damilola\"\n",
    "age = 20\n",
    "\n",
    "print(\"my name is %s and i am %s years old\" %(name, age))"
   ]
  },
  {
   "cell_type": "code",
   "execution_count": null,
   "id": "140bf84d",
   "metadata": {},
   "outputs": [],
   "source": []
  },
  {
   "cell_type": "markdown",
   "id": "cc486ecb",
   "metadata": {},
   "source": [
    "### Strings are sequences\n",
    "Strings can be thought of as sequences of characters (list).  Almost everything we've seen that we can do to a list, we can also do to a string.\n",
    "\n",
    "But a major way in which they differ from lists is that they are **immutable**. We can't modify them.\n",
    "\n",
    "**Going between strings and lists: .split() and .join()**\n",
    "\n",
    "- `str.split()` turns a string into a list of smaller strings, breaking on whitespace by default.\n",
    "- `str.join()` takes us in the other direction, sewing a list of strings up into one long string, using the string it was called on as a separator"
   ]
  },
  {
   "cell_type": "code",
   "execution_count": null,
   "id": "750cdcea",
   "metadata": {},
   "outputs": [],
   "source": []
  },
  {
   "cell_type": "code",
   "execution_count": null,
   "id": "8dfa9c0b",
   "metadata": {},
   "outputs": [],
   "source": []
  },
  {
   "cell_type": "markdown",
   "id": "0900af63",
   "metadata": {},
   "source": [
    "## Indexing and Slicing\n",
    "\n",
    "\n",
    "**Indexing**\n",
    "Indexing is used to obtain individual elements.\n",
    "\n",
    "We can refer to any item in the list or string according to its position in the list (first, second, third, etc)\n",
    "\n",
    "\n",
    "**Slicing**\n",
    "Slicing is used to obtain a sequence of elements (using two index).\n",
    "\n",
    "You can also pull a segment of a list (for instance, the first three entries or the last two entries). This is called slicing.\n",
    "\n",
    "- Indexing starts from 0. \n",
    "- Index 0 represents the first element in the sequence.\n",
    "- Negative indexing starts from -1. \n",
    "- Index -1 represents the last element in the sequence.\n"
   ]
  },
  {
   "cell_type": "markdown",
   "id": "94648f4c",
   "metadata": {},
   "source": []
  },
  {
   "cell_type": "code",
   "execution_count": null,
   "id": "5ba43a59",
   "metadata": {},
   "outputs": [],
   "source": []
  },
  {
   "cell_type": "code",
   "execution_count": null,
   "id": "226ab4d9",
   "metadata": {},
   "outputs": [],
   "source": []
  },
  {
   "cell_type": "markdown",
   "id": "b22c077c",
   "metadata": {},
   "source": [
    "## Dictionaries\n",
    "Dictionary is a type of python data type in which collections are **unordered**, and **values** are in pairs called **key-value pairs**.\n",
    "\n",
    " This type of data type is useful when there is a high volume of data. Braces {} (curly brackets) are used to define dictionaries data type in Python. A Pair in the dictionary data type is an item which is represented as key:value. **The value and the key can be of any data type.**"
   ]
  },
  {
   "cell_type": "code",
   "execution_count": null,
   "id": "b815c644",
   "metadata": {},
   "outputs": [],
   "source": [
    "# Creating dictionaries\n",
    "\n",
    "# Manipulating dictionaries"
   ]
  },
  {
   "cell_type": "code",
   "execution_count": null,
   "id": "070f3f22",
   "metadata": {},
   "outputs": [],
   "source": []
  },
  {
   "cell_type": "code",
   "execution_count": null,
   "id": "c66bff67",
   "metadata": {},
   "outputs": [],
   "source": []
  },
  {
   "cell_type": "markdown",
   "id": "03729bf5",
   "metadata": {},
   "source": [
    "## Tuple\n",
    "\n",
    "A Tuple is a sequence of items that are in **order**, and it is not possible to modify the Tuples. \n",
    "\n",
    "**The main difference list and tuples are that tuple is immutable, which means it cannot be altered**. \n",
    "\n",
    "- Tuples are generally faster than the list data type in Python because it cannot be changed or modified like list datatype. \n",
    "- The primary use of Tuples is to write-protect data. \n",
    "- Tuples can be represented by using parentheses (), and \n",
    "- commas are used to separate the items. \n",
    "\n",
    "Days of the week, Months of the year, DOB, etc"
   ]
  },
  {
   "cell_type": "code",
   "execution_count": null,
   "id": "77a34425",
   "metadata": {},
   "outputs": [],
   "source": []
  },
  {
   "cell_type": "code",
   "execution_count": null,
   "id": "6a32273b",
   "metadata": {},
   "outputs": [],
   "source": []
  },
  {
   "cell_type": "code",
   "execution_count": null,
   "id": "53410d03",
   "metadata": {},
   "outputs": [],
   "source": []
  },
  {
   "cell_type": "markdown",
   "id": "407b40ea",
   "metadata": {},
   "source": [
    "## Set\n",
    "\n",
    "A Set is a collection of **Unique items that are not in order is called Set**. \n",
    "\n",
    "Braces **{   }** are used to defined set and a comma is used to separate values. \n",
    "\n",
    "One will find that the items are unordered in a set data type.\n",
    "\n",
    "- Duplicates are eliminated in a set and set only keeps unique values. \n",
    "- Operations like intersection and union can be performed on two sets. "
   ]
  },
  {
   "cell_type": "code",
   "execution_count": null,
   "id": "2208480d",
   "metadata": {},
   "outputs": [],
   "source": []
  },
  {
   "cell_type": "code",
   "execution_count": null,
   "id": "6727f05e",
   "metadata": {},
   "outputs": [],
   "source": []
  },
  {
   "cell_type": "markdown",
   "id": "9feac85f",
   "metadata": {},
   "source": [
    "## Booleans\n",
    "There can be only two types of value in the Boolean data type of Python, and that is True or False. "
   ]
  },
  {
   "cell_type": "code",
   "execution_count": null,
   "id": "d55818b2",
   "metadata": {},
   "outputs": [],
   "source": []
  },
  {
   "cell_type": "code",
   "execution_count": null,
   "id": "34ea83d4",
   "metadata": {},
   "outputs": [],
   "source": []
  },
  {
   "cell_type": "code",
   "execution_count": null,
   "id": "8c8a8032",
   "metadata": {},
   "outputs": [],
   "source": []
  },
  {
   "cell_type": "markdown",
   "id": "2ac5b954",
   "metadata": {},
   "source": [
    "## Conditions\n",
    "In programming, conditions are statements that are either **True or False**. \n",
    "There are many different ways to write conditions in Python, but some of the most common ways of writing conditions just compare two different values. \n",
    "\n",
    "For instance, you can check if 2 is greater than 3\n",
    "\n",
    "#### Comparison Operators\n",
    "Comparison operators are used to compare two values:\n",
    "\n",
    "|SN                |Symbol                          |Meaning                         |\n",
    "|----------------|-------------------------------|-----------------------------|\n",
    "|1|==| Equals to\n",
    "|2| !=| Not Equals to\n",
    "|3|> |Greater than\n",
    "|4|>= |Greater than or equals to\n",
    "|5|<| Less than\n",
    "|6| <=| Less than of equals to"
   ]
  },
  {
   "cell_type": "code",
   "execution_count": null,
   "id": "50c4031b",
   "metadata": {},
   "outputs": [],
   "source": []
  },
  {
   "cell_type": "code",
   "execution_count": null,
   "id": "70e9f2e9",
   "metadata": {},
   "outputs": [],
   "source": []
  },
  {
   "cell_type": "code",
   "execution_count": null,
   "id": "460289b2",
   "metadata": {},
   "outputs": [],
   "source": []
  },
  {
   "cell_type": "code",
   "execution_count": null,
   "id": "f26920ba",
   "metadata": {},
   "outputs": [],
   "source": []
  },
  {
   "cell_type": "markdown",
   "id": "cb0080e1",
   "metadata": {},
   "source": [
    "#### Conditional statements\n",
    "Conditional statements use conditions to modify how your function runs. \n",
    "\n",
    "They check the value of a condition, and if the condition evaluates to True, then a certain block of code is executed. (Otherwise, if the condition is False, then the code is not run."
   ]
  },
  {
   "cell_type": "code",
   "execution_count": null,
   "id": "40757f9b",
   "metadata": {},
   "outputs": [],
   "source": []
  },
  {
   "cell_type": "code",
   "execution_count": null,
   "id": "a3a84eca",
   "metadata": {},
   "outputs": [],
   "source": []
  },
  {
   "cell_type": "markdown",
   "id": "174662e2",
   "metadata": {},
   "source": [
    "## If, Elif, Else Statement\n",
    "The Python **if statement** is same as it is with other programming languages. \n",
    "It executes a set of statements conditionally, based on the value of a logical expression.\n",
    "\n",
    "In Python **if .. else statement**, if has two blocks, one following the expression and other following the else clause.\n",
    "\n",
    "The **if-elif-else statement** is used to conditionally execute a statement or a block of statements. \n",
    "\n",
    "Conditions can be true or false, execute one thing when the condition is true, something else when the condition is false.\n"
   ]
  },
  {
   "cell_type": "code",
   "execution_count": null,
   "id": "2eb8a561",
   "metadata": {},
   "outputs": [],
   "source": []
  },
  {
   "cell_type": "code",
   "execution_count": null,
   "id": "be475f0c",
   "metadata": {},
   "outputs": [],
   "source": []
  },
  {
   "cell_type": "code",
   "execution_count": null,
   "id": "cae17984",
   "metadata": {},
   "outputs": [],
   "source": []
  },
  {
   "cell_type": "markdown",
   "id": "9dfdd03e",
   "metadata": {},
   "source": [
    "## For Loop\n",
    "A for loop is used for iterating over a sequence (that is either a list, a tuple, a dictionary, a set, or a string).\n",
    "\n",
    "This is less like the for keyword in other programming languages, and works more like an iterator method as found in other object-orientated programming languages.\n",
    "\n",
    "With the for loop we can execute a set of statements, once for each item in a list, tuple, set etc."
   ]
  },
  {
   "cell_type": "code",
   "execution_count": null,
   "id": "c6562b42",
   "metadata": {},
   "outputs": [],
   "source": []
  },
  {
   "cell_type": "code",
   "execution_count": null,
   "id": "5b399deb",
   "metadata": {},
   "outputs": [],
   "source": []
  },
  {
   "cell_type": "markdown",
   "id": "86d8d834",
   "metadata": {},
   "source": [
    "## While Loop\n",
    "\n",
    "The while loop in Python is used to iterate over a block of code as long as the test expression (condition) is true.\n",
    "\n",
    "We generally use this loop when we don't know the number of times to iterate beforehand."
   ]
  },
  {
   "cell_type": "code",
   "execution_count": null,
   "id": "9ee0e5c1",
   "metadata": {},
   "outputs": [],
   "source": []
  },
  {
   "cell_type": "code",
   "execution_count": null,
   "id": "8991a4d5",
   "metadata": {},
   "outputs": [],
   "source": []
  },
  {
   "cell_type": "code",
   "execution_count": null,
   "id": "7736bfe7",
   "metadata": {},
   "outputs": [],
   "source": []
  },
  {
   "cell_type": "markdown",
   "id": "2dc374f4",
   "metadata": {},
   "source": [
    "## More Functions\n",
    "\n",
    "In Python, a function is a group of related statements that performs a specific task.\n",
    "\n",
    "Functions help break our program into smaller and modular chunks. As our program grows larger and larger, functions make it more organized and manageable.\n",
    "\n",
    "Furthermore, it avoids repetition and makes the code reusable."
   ]
  },
  {
   "cell_type": "code",
   "execution_count": null,
   "id": "afcea031",
   "metadata": {},
   "outputs": [],
   "source": []
  },
  {
   "cell_type": "code",
   "execution_count": null,
   "id": "0ce69ce0",
   "metadata": {},
   "outputs": [],
   "source": []
  },
  {
   "cell_type": "code",
   "execution_count": null,
   "id": "7fa66d05",
   "metadata": {},
   "outputs": [],
   "source": []
  },
  {
   "cell_type": "markdown",
   "id": "81ce2818",
   "metadata": {},
   "source": [
    "### Map Function\n",
    "Mapping consists of applying a transformation function to an iterable to produce a new iterable. Items in the new iterable are produced by calling the transformation function on each item in the original iterable."
   ]
  },
  {
   "cell_type": "code",
   "execution_count": null,
   "id": "1eed32cc",
   "metadata": {},
   "outputs": [],
   "source": []
  },
  {
   "cell_type": "code",
   "execution_count": null,
   "id": "db39f3f0",
   "metadata": {},
   "outputs": [],
   "source": []
  },
  {
   "cell_type": "markdown",
   "id": "fb462ef5",
   "metadata": {},
   "source": [
    "### Filter Function\n",
    "Filtering consists of applying a predicate or Boolean-valued function to an iterable to generate a new iterable. Items in the new iterable are produced by filtering out any items in the original iterable that make the predicate function return false."
   ]
  },
  {
   "cell_type": "code",
   "execution_count": null,
   "id": "c5533861",
   "metadata": {},
   "outputs": [],
   "source": []
  },
  {
   "cell_type": "code",
   "execution_count": null,
   "id": "dc125b0d",
   "metadata": {},
   "outputs": [],
   "source": []
  },
  {
   "cell_type": "code",
   "execution_count": null,
   "id": "cedf53cd",
   "metadata": {},
   "outputs": [],
   "source": []
  },
  {
   "cell_type": "markdown",
   "id": "7c501903",
   "metadata": {},
   "source": [
    "### Lambda Expressions\n",
    "A lambda function is a small anonymous function.\n",
    "\n",
    "A lambda function can take any number of arguments, but can only have one expression."
   ]
  },
  {
   "cell_type": "code",
   "execution_count": null,
   "id": "f12bb305",
   "metadata": {},
   "outputs": [],
   "source": []
  },
  {
   "cell_type": "code",
   "execution_count": null,
   "id": "37a55f56",
   "metadata": {},
   "outputs": [],
   "source": []
  }
 ],
 "metadata": {
  "kernelspec": {
   "display_name": "Python 3",
   "language": "python",
   "name": "python3"
  },
  "language_info": {
   "codemirror_mode": {
    "name": "ipython",
    "version": 3
   },
   "file_extension": ".py",
   "mimetype": "text/x-python",
   "name": "python",
   "nbconvert_exporter": "python",
   "pygments_lexer": "ipython3",
   "version": "3.8.8"
  }
 },
 "nbformat": 4,
 "nbformat_minor": 5
}
